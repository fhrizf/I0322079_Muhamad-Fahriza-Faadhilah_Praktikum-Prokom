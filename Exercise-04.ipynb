{
 "cells": [
  {
   "cell_type": "code",
   "execution_count": 29,
   "metadata": {},
   "outputs": [
    {
     "name": "stdout",
     "output_type": "stream",
     "text": [
      "Muhamad Fahriza Faadhilah\n",
      "I0322079\n",
      "C\n"
     ]
    }
   ],
   "source": [
    "print(input(\"Nama: \"))\n",
    "print(input(\"NIM: \"))\n",
    "print(input(\"Kelas: \"))"
   ]
  },
  {
   "attachments": {},
   "cell_type": "markdown",
   "metadata": {},
   "source": [
    "## 1."
   ]
  },
  {
   "attachments": {},
   "cell_type": "markdown",
   "metadata": {},
   "source": [
    "Buatlah program yang menampilkan tarif pajak yang harus dibayarkan oleh user dengan input yaitu nama user dan pendapatan dari user.<br>\n",
    "Dengan ketentuan sebagai berikut:\n",
    "* Jika pendapatan kurang dari atau sama dengan 10 juta, maka tarif pajak adalah 2,5%\n",
    "* Jika pendapatan kurang dari atau sama dengan 20 juta, maka tarif pajak adalah 5%\n",
    "* Jika pendapatan kurang dari atau sama dengan 50 juta, maka tarif pajak adalah 10%.\n",
    "* Jika pendapatan lebih dari 50 juta, maka tarif pajak adalah 12,5%.\n",
    "> *note: Kerjakan soal ini dengan percabangan*"
   ]
  },
  {
   "cell_type": "code",
   "execution_count": 19,
   "metadata": {},
   "outputs": [
    {
     "name": "stdout",
     "output_type": "stream",
     "text": [
      "Nama         : Fahriza\n",
      "Pendapatan   : Rp25000000.0\n",
      "Tarik pajak anda sebesar 10%\n",
      "Jumlah pajak yang harus dibayarakan sebesar Rp2500000.0\n"
     ]
    }
   ],
   "source": [
    "# Kerjakan soal no 1 di sini\n",
    "\n",
    "namaPajak = input('Masukkan nama anda: ')\n",
    "pendapatan = float(input('Masukkan pendapatan anda: '))\n",
    "\n",
    "if pendapatan <= (10 ** 7) and pendapatan > 0:\n",
    "    print(f'Nama         : {namaPajak}\\nPendapatan   : Rp{pendapatan}')\n",
    "    print('Tarik pajak anda sebesar 2,5%')\n",
    "    print(f'Jumlah pajak yang harus dibayarakan sebesar Rp{pendapatan * 0.025}')\n",
    "elif pendapatan <= (2 * 10 ** 7) and pendapatan > 0:\n",
    "    print(f'Nama         : {namaPajak}\\nPendapatan   : Rp{pendapatan}')\n",
    "    print('Tarik pajak anda sebesar 5%')\n",
    "    print(f'Jumlah pajak yang harus dibayarakan sebesar Rp{pendapatan * 0.05}')\n",
    "elif pendapatan <= (5 * 10 ** 7) and pendapatan > 0:\n",
    "    print(f'Nama         : {namaPajak}\\nPendapatan   : Rp{pendapatan}')\n",
    "    print('Tarik pajak anda sebesar 10%')\n",
    "    print(f'Jumlah pajak yang harus dibayarakan sebesar Rp{pendapatan * 0.1}')\n",
    "elif pendapatan > (5 * 10 ** 7) and pendapatan > 0:\n",
    "    print(f'Nama         : {namaPajak}\\nPendapatan   : Rp{pendapatan}')\n",
    "    print('Tarik pajak anda sebesar 12,5%')\n",
    "    print(f'Jumlah pajak yang harus dibayarakan sebesar Rp{pendapatan * 0.125}')\n",
    "else:\n",
    "    print(f'Nama         : {namaPajak}\\nPendapatan   : Rp{pendapatan}')\n",
    "    print('Anda tidak ada tanggungan membayar pajak!')\n",
    "\n"
   ]
  },
  {
   "attachments": {},
   "cell_type": "markdown",
   "metadata": {},
   "source": [
    "## 2."
   ]
  },
  {
   "attachments": {},
   "cell_type": "markdown",
   "metadata": {},
   "source": [
    "Buatlah program yang menampilkan akan melakukan validasi apakah mahasiswa tersebut berasal dari TI UNS berdasarkan NIM yang diinput oleh user:\n",
    "<br>Dengan ketentuan sebagai berikut:\n",
    "* NIM mahasiswa TI harus dimulai dengan \"I03\" dengan total panjang 8 karakter (I0320078 adalah contoh NIM mahasiswa TI UNS)\n",
    "* Program akan menampilkan pesan \"NIM mahasiswa TI UNS\" jika NIM yang dimasukkan sesuai dengan format yang dijelaskan di atas, dan akan menampilkan pesan \"NIM Anda tidak valid\" jika tidak sesuai.\n",
    "> *note: Kerjakan soal ini dengan percabangan*"
   ]
  },
  {
   "cell_type": "code",
   "execution_count": 32,
   "metadata": {},
   "outputs": [
    {
     "name": "stdout",
     "output_type": "stream",
     "text": [
      "NIM mahasiswa TI UNS: I0322079\n"
     ]
    }
   ],
   "source": [
    "# Kerjakan soal no 2 di sini\n",
    "nim = input('Masukkan NIM anda: ')\n",
    "\n",
    "if ('I03' in nim) == True:\n",
    "    if len(nim) == 8:\n",
    "        if nim[3:8].isdecimal() == True:\n",
    "            print(f'NIM mahasiswa TI UNS: {nim}')\n",
    "        else:\n",
    "            print('NIM Anda tidak valid')\n",
    "            print('(5 digit terakhir haruslah angka!)')\n",
    "    else:\n",
    "        print('NIM Anda tidak valid')\n",
    "        print('(NIM harus 8 digit!)')\n",
    "else:\n",
    "    print('NIM Anda tidak valid')"
   ]
  }
 ],
 "metadata": {
  "kernelspec": {
   "display_name": "Python 3",
   "language": "python",
   "name": "python3"
  },
  "language_info": {
   "codemirror_mode": {
    "name": "ipython",
    "version": 3
   },
   "file_extension": ".py",
   "mimetype": "text/x-python",
   "name": "python",
   "nbconvert_exporter": "python",
   "pygments_lexer": "ipython3",
   "version": "3.11.2"
  },
  "orig_nbformat": 4
 },
 "nbformat": 4,
 "nbformat_minor": 2
}

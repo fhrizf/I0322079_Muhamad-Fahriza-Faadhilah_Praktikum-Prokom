{
 "cells": [
  {
   "attachments": {},
   "cell_type": "markdown",
   "metadata": {},
   "source": [
    "1. Buatlah program untuk menghitung pangkat 2 dari angka 1 hingga 50!"
   ]
  },
  {
   "cell_type": "code",
   "execution_count": 1,
   "metadata": {},
   "outputs": [
    {
     "name": "stdout",
     "output_type": "stream",
     "text": [
      "Pangkat dari 1 adalah 1\n",
      "Pangkat dari 2 adalah 4\n",
      "Pangkat dari 3 adalah 9\n",
      "Pangkat dari 4 adalah 16\n",
      "Pangkat dari 5 adalah 25\n",
      "Pangkat dari 6 adalah 36\n",
      "Pangkat dari 7 adalah 49\n",
      "Pangkat dari 8 adalah 64\n",
      "Pangkat dari 9 adalah 81\n",
      "Pangkat dari 10 adalah 100\n",
      "Pangkat dari 11 adalah 121\n",
      "Pangkat dari 12 adalah 144\n",
      "Pangkat dari 13 adalah 169\n",
      "Pangkat dari 14 adalah 196\n",
      "Pangkat dari 15 adalah 225\n",
      "Pangkat dari 16 adalah 256\n",
      "Pangkat dari 17 adalah 289\n",
      "Pangkat dari 18 adalah 324\n",
      "Pangkat dari 19 adalah 361\n",
      "Pangkat dari 20 adalah 400\n",
      "Pangkat dari 21 adalah 441\n",
      "Pangkat dari 22 adalah 484\n",
      "Pangkat dari 23 adalah 529\n",
      "Pangkat dari 24 adalah 576\n",
      "Pangkat dari 25 adalah 625\n",
      "Pangkat dari 26 adalah 676\n",
      "Pangkat dari 27 adalah 729\n",
      "Pangkat dari 28 adalah 784\n",
      "Pangkat dari 29 adalah 841\n",
      "Pangkat dari 30 adalah 900\n",
      "Pangkat dari 31 adalah 961\n",
      "Pangkat dari 32 adalah 1024\n",
      "Pangkat dari 33 adalah 1089\n",
      "Pangkat dari 34 adalah 1156\n",
      "Pangkat dari 35 adalah 1225\n",
      "Pangkat dari 36 adalah 1296\n",
      "Pangkat dari 37 adalah 1369\n",
      "Pangkat dari 38 adalah 1444\n",
      "Pangkat dari 39 adalah 1521\n",
      "Pangkat dari 40 adalah 1600\n",
      "Pangkat dari 41 adalah 1681\n",
      "Pangkat dari 42 adalah 1764\n",
      "Pangkat dari 43 adalah 1849\n",
      "Pangkat dari 44 adalah 1936\n",
      "Pangkat dari 45 adalah 2025\n",
      "Pangkat dari 46 adalah 2116\n",
      "Pangkat dari 47 adalah 2209\n",
      "Pangkat dari 48 adalah 2304\n",
      "Pangkat dari 49 adalah 2401\n",
      "Pangkat dari 50 adalah 2500\n"
     ]
    }
   ],
   "source": [
    "# Kerjakan nomor 1 di sini\n",
    "for p in range(1,51):\n",
    "    print(f'Pangkat dari {p} adalah {p ** 2}')"
   ]
  },
  {
   "attachments": {},
   "cell_type": "markdown",
   "metadata": {},
   "source": [
    "2. Buatlah sebuah list yang berisi daftar nama mahasiswa angkatan kalian minimal sejumlah 10 nama. Kemudian buat program pencarian menggunakan pengulangan, di mana apabila nama yang user inputkan sudah sesuai dengan isi list maka program akan berhenti dan menampilkan output \"Pencarian anda sudah berakhir\""
   ]
  },
  {
   "attachments": {},
   "cell_type": "markdown",
   "metadata": {},
   "source": [
    "catatan: perhatikan user dapat menginputkan menggunakan baik huruf kapital maupun tidak"
   ]
  },
  {
   "cell_type": "code",
   "execution_count": 2,
   "metadata": {},
   "outputs": [
    {
     "name": "stdout",
     "output_type": "stream",
     "text": [
      "Nama itu ga ada masbro\n",
      "Nama itu ga ada masbro\n",
      "Nama itu ga ada masbro\n",
      "Nama yang Anda cari: Wadini\n",
      "Pencarian anda sudah berakhir\n"
     ]
    }
   ],
   "source": [
    "# Kerjakan nomor 2 di sini\n",
    "namaAkt22 = ['Ilham', 'Bowo', 'Yusuf', 'Darok', 'Daul', 'Rapip', 'Akmal', 'Wadini', 'Abid', 'Rafly']\n",
    "\n",
    "while True:\n",
    "    userInput = input('Cari nama teman saya hayoo! Nama: ').capitalize()\n",
    "    if userInput in namaAkt22:\n",
    "        print(f'Nama yang Anda cari: {userInput}\\nPencarian anda sudah berakhir')\n",
    "        break\n",
    "    print('Nama itu ga ada masbro')\n"
   ]
  },
  {
   "attachments": {},
   "cell_type": "markdown",
   "metadata": {},
   "source": [
    "3. Disajikan list sebagai berikut "
   ]
  },
  {
   "cell_type": "code",
   "execution_count": 3,
   "metadata": {},
   "outputs": [],
   "source": [
    "bulan = ['januari', 'februari', 'maret', 'april','mei','juni','juli','agustus','september','oktober','november','desember']\n",
    "kota = ['jakarta' , 'kuala lumpur', 'bangkok', 'seoul', 'canada','london','dubai','barcelona']"
   ]
  },
  {
   "attachments": {},
   "cell_type": "markdown",
   "metadata": {},
   "source": [
    "Robert adalah seorang penyanyi terkenal. Dia merencanakan konser world tour di tahun 2024 mendatang di berbagai negara. Dengan catatan pada bulan April dan Mei, Robert kembali ke indonesia untuk istirahat sejenak kemudian melanjutkan lagi konser. Berdasarkan kasus tersebut buatlah program pengulangannya!"
   ]
  },
  {
   "cell_type": "code",
   "execution_count": 4,
   "metadata": {},
   "outputs": [
    {
     "name": "stdout",
     "output_type": "stream",
     "text": [
      "Robert berencana mengadakan konser di jakarta pada bulan januari\n",
      "Robert berencana mengadakan konser di kuala lumpur pada bulan januari\n",
      "Robert berencana mengadakan konser di bangkok pada bulan januari\n",
      "Robert berencana mengadakan konser di seoul pada bulan januari\n",
      "Robert berencana mengadakan konser di canada pada bulan januari\n",
      "Robert berencana mengadakan konser di london pada bulan januari\n",
      "Robert berencana mengadakan konser di dubai pada bulan januari\n",
      "Robert berencana mengadakan konser di barcelona pada bulan januari\n",
      "Robert berencana mengadakan konser di jakarta pada bulan februari\n",
      "Robert berencana mengadakan konser di kuala lumpur pada bulan februari\n",
      "Robert berencana mengadakan konser di bangkok pada bulan februari\n",
      "Robert berencana mengadakan konser di seoul pada bulan februari\n",
      "Robert berencana mengadakan konser di canada pada bulan februari\n",
      "Robert berencana mengadakan konser di london pada bulan februari\n",
      "Robert berencana mengadakan konser di dubai pada bulan februari\n",
      "Robert berencana mengadakan konser di barcelona pada bulan februari\n",
      "Robert berencana mengadakan konser di jakarta pada bulan maret\n",
      "Robert berencana mengadakan konser di kuala lumpur pada bulan maret\n",
      "Robert berencana mengadakan konser di bangkok pada bulan maret\n",
      "Robert berencana mengadakan konser di seoul pada bulan maret\n",
      "Robert berencana mengadakan konser di canada pada bulan maret\n",
      "Robert berencana mengadakan konser di london pada bulan maret\n",
      "Robert berencana mengadakan konser di dubai pada bulan maret\n",
      "Robert berencana mengadakan konser di barcelona pada bulan maret\n",
      "Robert beristirahat di Indonesia pada bulan april\n",
      "Robert beristirahat di Indonesia pada bulan mei\n",
      "Robert berencana mengadakan konser di jakarta pada bulan juni\n",
      "Robert berencana mengadakan konser di kuala lumpur pada bulan juni\n",
      "Robert berencana mengadakan konser di bangkok pada bulan juni\n",
      "Robert berencana mengadakan konser di seoul pada bulan juni\n",
      "Robert berencana mengadakan konser di canada pada bulan juni\n",
      "Robert berencana mengadakan konser di london pada bulan juni\n",
      "Robert berencana mengadakan konser di dubai pada bulan juni\n",
      "Robert berencana mengadakan konser di barcelona pada bulan juni\n",
      "Robert berencana mengadakan konser di jakarta pada bulan juli\n",
      "Robert berencana mengadakan konser di kuala lumpur pada bulan juli\n",
      "Robert berencana mengadakan konser di bangkok pada bulan juli\n",
      "Robert berencana mengadakan konser di seoul pada bulan juli\n",
      "Robert berencana mengadakan konser di canada pada bulan juli\n",
      "Robert berencana mengadakan konser di london pada bulan juli\n",
      "Robert berencana mengadakan konser di dubai pada bulan juli\n",
      "Robert berencana mengadakan konser di barcelona pada bulan juli\n",
      "Robert berencana mengadakan konser di jakarta pada bulan agustus\n",
      "Robert berencana mengadakan konser di kuala lumpur pada bulan agustus\n",
      "Robert berencana mengadakan konser di bangkok pada bulan agustus\n",
      "Robert berencana mengadakan konser di seoul pada bulan agustus\n",
      "Robert berencana mengadakan konser di canada pada bulan agustus\n",
      "Robert berencana mengadakan konser di london pada bulan agustus\n",
      "Robert berencana mengadakan konser di dubai pada bulan agustus\n",
      "Robert berencana mengadakan konser di barcelona pada bulan agustus\n",
      "Robert berencana mengadakan konser di jakarta pada bulan september\n",
      "Robert berencana mengadakan konser di kuala lumpur pada bulan september\n",
      "Robert berencana mengadakan konser di bangkok pada bulan september\n",
      "Robert berencana mengadakan konser di seoul pada bulan september\n",
      "Robert berencana mengadakan konser di canada pada bulan september\n",
      "Robert berencana mengadakan konser di london pada bulan september\n",
      "Robert berencana mengadakan konser di dubai pada bulan september\n",
      "Robert berencana mengadakan konser di barcelona pada bulan september\n",
      "Robert berencana mengadakan konser di jakarta pada bulan oktober\n",
      "Robert berencana mengadakan konser di kuala lumpur pada bulan oktober\n",
      "Robert berencana mengadakan konser di bangkok pada bulan oktober\n",
      "Robert berencana mengadakan konser di seoul pada bulan oktober\n",
      "Robert berencana mengadakan konser di canada pada bulan oktober\n",
      "Robert berencana mengadakan konser di london pada bulan oktober\n",
      "Robert berencana mengadakan konser di dubai pada bulan oktober\n",
      "Robert berencana mengadakan konser di barcelona pada bulan oktober\n",
      "Robert berencana mengadakan konser di jakarta pada bulan november\n",
      "Robert berencana mengadakan konser di kuala lumpur pada bulan november\n",
      "Robert berencana mengadakan konser di bangkok pada bulan november\n",
      "Robert berencana mengadakan konser di seoul pada bulan november\n",
      "Robert berencana mengadakan konser di canada pada bulan november\n",
      "Robert berencana mengadakan konser di london pada bulan november\n",
      "Robert berencana mengadakan konser di dubai pada bulan november\n",
      "Robert berencana mengadakan konser di barcelona pada bulan november\n",
      "Robert berencana mengadakan konser di jakarta pada bulan desember\n",
      "Robert berencana mengadakan konser di kuala lumpur pada bulan desember\n",
      "Robert berencana mengadakan konser di bangkok pada bulan desember\n",
      "Robert berencana mengadakan konser di seoul pada bulan desember\n",
      "Robert berencana mengadakan konser di canada pada bulan desember\n",
      "Robert berencana mengadakan konser di london pada bulan desember\n",
      "Robert berencana mengadakan konser di dubai pada bulan desember\n",
      "Robert berencana mengadakan konser di barcelona pada bulan desember\n"
     ]
    }
   ],
   "source": [
    "# kerjakan nomor 3 di sini\n",
    "for x in bulan:\n",
    "    if x.capitalize() == 'April' or x.capitalize() == 'Mei':\n",
    "        print(f'Robert beristirahat di Indonesia pada bulan {x}')\n",
    "        continue\n",
    "    for y in kota:\n",
    "        print(f'Robert berencana mengadakan konser di {y} pada bulan {x}')"
   ]
  }
 ],
 "metadata": {
  "kernelspec": {
   "display_name": "Python 3",
   "language": "python",
   "name": "python3"
  },
  "language_info": {
   "codemirror_mode": {
    "name": "ipython",
    "version": 3
   },
   "file_extension": ".py",
   "mimetype": "text/x-python",
   "name": "python",
   "nbconvert_exporter": "python",
   "pygments_lexer": "ipython3",
   "version": "3.11.2"
  },
  "orig_nbformat": 4
 },
 "nbformat": 4,
 "nbformat_minor": 2
}

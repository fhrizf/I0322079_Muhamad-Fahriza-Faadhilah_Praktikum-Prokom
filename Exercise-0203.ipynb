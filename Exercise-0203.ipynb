{
 "cells": [
  {
   "cell_type": "code",
   "execution_count": 1,
   "metadata": {},
   "outputs": [
    {
     "name": "stdout",
     "output_type": "stream",
     "text": [
      "Muhamad Fahriza Faadhilah\n",
      "I0322079\n",
      "C\n"
     ]
    }
   ],
   "source": [
    "print(input(\"Nama: \"))\n",
    "print(input(\"NIM: \"))\n",
    "print(input(\"Kelas: \"))"
   ]
  },
  {
   "attachments": {},
   "cell_type": "markdown",
   "metadata": {},
   "source": [
    "## 1."
   ]
  },
  {
   "attachments": {},
   "cell_type": "markdown",
   "metadata": {},
   "source": [
    "buatlah program sederhana untuk:\n",
    "* **A** mencari massa jika diketahui nilai energi potensial, percepatan gravitasi, dan ketinggian benda! beserta rumus nya!\n",
    "* **B** mencari gaya apung jika diketahui massa jenis, tinggi, panjang, dan lebar benda serta percepatan gravitasi dan contohnya! beserta rumus nya!\n",
    "* **C** Tulis program Python untuk menghitung luas dari segi lima sama sisi!\n",
    "\n",
    "> *note* : rumus, contoh, dan nilai dari tiap variabel ditentukan oleh kalian sendiri dan gunakan satuan baku (SI) untuk menghitung nilai dari tiap variabel"
   ]
  },
  {
   "cell_type": "code",
   "execution_count": 6,
   "metadata": {},
   "outputs": [
    {
     "name": "stdout",
     "output_type": "stream",
     "text": [
      "Energi potensial yang diketahui = 35.0 joule\n",
      "Ketinggian benda yang diketahui = 5.0 m\n",
      "Percepatan gravitasi = 10 m/s^2\n",
      "\n",
      "Rumus mencari massa benda:\n",
      "m = Ep/(g * tinggi)\n",
      "Maka massa benda adalah 0.7 kg\n"
     ]
    }
   ],
   "source": [
    "# A mencari massa jika diketahui nilai energi potensial, percepatan gravitasi, dan ketinggian benda! beserta rumus nya!\n",
    "energiPotensial = float(input('Nilai energi potensial yang diketahui = ')) # Dalam Joule\n",
    "ketinggianBenda = float(input('Ketinggian benda yang diketahui = ')) # Dalam meter\n",
    "percepatanGravitasi = 10 #m/s2\n",
    "massaBenda = energiPotensial / (ketinggianBenda * percepatanGravitasi)\n",
    "\n",
    "print(f'Energi potensial yang diketahui = {energiPotensial} joule\\nKetinggian benda yang diketahui = {ketinggianBenda} m\\nPercepatan gravitasi = {percepatanGravitasi} m/s^2')\n",
    "print(f'\\nRumus mencari massa benda:\\nm = Ep/(g * tinggi)\\nMaka massa benda adalah {massaBenda} kg')\n"
   ]
  },
  {
   "cell_type": "code",
   "execution_count": 8,
   "metadata": {},
   "outputs": [
    {
     "name": "stdout",
     "output_type": "stream",
     "text": [
      "Massa jenis yang diketahui = 350.0 kg/m^3\n",
      "Tinggi benda = 10.0 m\n",
      "Panjang benda = 7.0 m\n",
      "Lebar benda = 5.0 m\n",
      "Percepatan gravitasi = 10 m/s^2\n",
      "\n",
      "Rumus Gaya Apung:\n",
      "F = 𝜌 𝑔 𝑉\n",
      "Maka gaya apung yang bekerja pada benda tersebut sebesar 1225000.0 N\n"
     ]
    }
   ],
   "source": [
    "# B mencari gaya apung jika diketahui massa jenis, tinggi, panjang, dan lebar benda serta percepatan gravitasi dan contohnya! beserta rumus nya!\n",
    "massaJenis = float(input('Massa jenis yang diketahui = ')) #Dalam kg/m3\n",
    "tinggiBenda = float(input('Tinggi benda yang diketahui = ')) #Dalam meter\n",
    "panjangBenda = float(input('Panjang benda yang diketahui = ')) #Dalam meter\n",
    "lebarBenda = float(input('Lebar benda yang diketahui = ')) #Dalam meter\n",
    "percepatanGravitasi = 10 #m/s2\n",
    "volumeBenda = tinggiBenda * panjangBenda * lebarBenda\n",
    "\n",
    "# Rumus Gaya Apung F = 𝜌 𝑔 𝑉\n",
    "rumusGayaApung = massaJenis * percepatanGravitasi * volumeBenda\n",
    "print(f'Massa jenis yang diketahui = {massaJenis} kg/m^3\\nTinggi benda = {tinggiBenda} m\\nPanjang benda = {panjangBenda} m\\nLebar benda = {lebarBenda} m\\nPercepatan gravitasi = {percepatanGravitasi} m/s^2')\n",
    "print(f'\\nRumus Gaya Apung:\\nF = 𝜌 𝑔 𝑉\\nMaka gaya apung yang bekerja pada benda tersebut sebesar {rumusGayaApung} N')\n"
   ]
  },
  {
   "cell_type": "code",
   "execution_count": 1,
   "metadata": {},
   "outputs": [
    {
     "name": "stdout",
     "output_type": "stream",
     "text": [
      "Panjang sisi = 5.0 cm\n",
      "\n",
      "Rumus luas segilima sama sisi:\n",
      "a²/4 x √(25 + 10√5)\n",
      "Maka luas segilima dengan sisi 5.0 cm adalah 43.01193501472417 cm²\n"
     ]
    }
   ],
   "source": [
    "# C Tulis program Python untuk menghitung luas dari segi lima sama sisi!\n",
    "import math\n",
    "\n",
    "panjangSisi = float(input('Panjang sisi segilima yang diketahui = ')) # Dalam centimeter\n",
    "# Luas segilima = a²/4 x √(25 + 10√5)\n",
    "luasSegilima = ((panjangSisi ** 2) / 4) * (math.sqrt(25 + (10 * math.sqrt(5))))\n",
    "print(f'Panjang sisi = {panjangSisi} cm')\n",
    "print(f'\\nRumus luas segilima sama sisi:\\na²/4 x √(25 + 10√5)\\nMaka luas segilima dengan sisi {panjangSisi} cm adalah {luasSegilima} cm²') \n"
   ]
  },
  {
   "attachments": {},
   "cell_type": "markdown",
   "metadata": {},
   "source": [
    "## 2."
   ]
  },
  {
   "attachments": {},
   "cell_type": "markdown",
   "metadata": {},
   "source": [
    "Taman bermain ANCOL memiliki berbagai wahana, salah satunya adalah bianglala. Harga tiket yang dijual berbeda tergantung dengan kategori nya. Harga tiket bagi orang dewasa atau yang berumur lebih dari 17 tahun adalah Rp 110.000 , harga tiket untuk anak-anak usia 6-16 tahun adalah Rp. 75.000 , sedangkan untuk usia dibawahnya tidak dikenakan biaya. Pada wahana bianglala sedang ada \"Promo RAMADHAN\" sebesar 20% bagi pembelian tiket lebih dari 2 pcs.\n",
    "\n",
    "Keluarga Anya Forger ingin menaiki wahana bianglala tersebut, Anya (usia 18 tahun) pergi bersama ayah dan ibunya beserta dua adiknya, Harry (usia 8 tahun) dan Taylor (usia 4 tahun). \n",
    "\n",
    "> Buatlah program sederhana untuk menghitung harga total dari pembelian tiket  oleh keluarga Anya dan harga tiket setelah mendapatkan diskon"
   ]
  },
  {
   "cell_type": "code",
   "execution_count": 3,
   "metadata": {},
   "outputs": [
    {
     "name": "stdout",
     "output_type": "stream",
     "text": [
      "Nama    : Loid Forger\n",
      "Umur    : 34 tahun\n",
      "Harga tiket Rp 110000\n",
      "=========================\n",
      "Nama    : Yor Forger\n",
      "Umur    : 32 tahun\n",
      "Harga tiket Rp 110000\n",
      "=========================\n",
      "Nama    : Anya Forger\n",
      "Umur    : 18 tahun\n",
      "Harga tiket Rp 110000\n",
      "=========================\n",
      "Nama    : Harry Forger\n",
      "Umur    : 8 tahun\n",
      "Harga tiket Rp 75000\n",
      "=========================\n",
      "Nama    : Taylor Forger\n",
      "Umur    : 4 tahun\n",
      "Tidak perlu membayar! Rp 0\n",
      "=========================\n",
      "Daftar pembeli tiket:\n",
      "Loid Forger\n",
      "Yor Forger\n",
      "Anya Forger\n",
      "Harry Forger\n",
      "Taylor Forger\n",
      "=========================\n",
      "Banyak tiket = 5\n",
      "Harga tiket yang harus dibayarkan sebesar Rp 405000\n",
      "\n",
      "Karena sedang ada diskon 20% jika membeli tiket lebih dari dua\n",
      "Maka Jumlah harga tiket yang harus dibayar sebesar Rp 324000.0\n"
     ]
    }
   ],
   "source": [
    "listNamaTiket = []\n",
    "hargaTotal = []\n",
    "\n",
    "def tambahOrang():\n",
    "    tambahNama = str(input('Masukkan nama untuk tiket: '))\n",
    "    tambahUmur = int(input('Masukkan umur: '))\n",
    "    listNamaTiket.append(tambahNama)\n",
    "    if tambahUmur >= 17:\n",
    "        hargaTiketDewasa = 110000\n",
    "        print(f'Nama    : {tambahNama}\\nUmur    : {tambahUmur} tahun')\n",
    "        print('Harga tiket Rp', hargaTiketDewasa)\n",
    "        print('=========================')\n",
    "        hargaTotal.append(hargaTiketDewasa)\n",
    "    elif tambahUmur >= 6 and tambahUmur <= 16:\n",
    "        hargaTiketRemaja = 75000\n",
    "        print(f'Nama    : {tambahNama}\\nUmur    : {tambahUmur} tahun')\n",
    "        print('Harga tiket Rp', hargaTiketRemaja)\n",
    "        print('=========================')\n",
    "        hargaTotal.append(hargaTiketRemaja)\n",
    "    elif tambahUmur < 6 and tambahUmur >= 0:\n",
    "        hargaTiketBayi = 0\n",
    "        print(f'Nama    : {tambahNama}\\nUmur    : {tambahUmur} tahun')\n",
    "        print('Tidak perlu membayar! Rp', hargaTiketBayi)\n",
    "        print('=========================')\n",
    "        hargaTotal.append(hargaTiketBayi)\n",
    "    else:\n",
    "        print('Yakali orang umurnya mines\\n')\n",
    "        listNamaTiket.remove(tambahNama)\n",
    "        \n",
    "while True:\n",
    "    userInput = input('Apakah anda ingin membeli tiket? Ya / Tidak')\n",
    "    if (userInput.lower() == 'ya'):\n",
    "        tambahOrang()\n",
    "    elif (userInput.lower() == 'tidak'):\n",
    "        if (len(listNamaTiket) <= 2 and len(listNamaTiket) >= 1):\n",
    "            print(f'Daftar pembeli tiket:')\n",
    "            for i in range(0, len(listNamaTiket)):\n",
    "                print(f'{listNamaTiket[i]}')\n",
    "            print('=========================')\n",
    "            print(f'Banyak tiket = {len(listNamaTiket)}\\nHarga tiket yang harus dibayarkan sebesar Rp', sum(hargaTotal))  \n",
    "            break\n",
    "        elif (len(listNamaTiket) > 2):\n",
    "            print(f'Daftar pembeli tiket:')\n",
    "            for i in range(0, len(listNamaTiket)):\n",
    "                print(f'{listNamaTiket[i]}')\n",
    "            print('=========================')\n",
    "            print(f'Banyak tiket = {len(listNamaTiket)}\\nHarga tiket yang harus dibayarkan sebesar Rp', sum(hargaTotal))  \n",
    "            print('\\nKarena sedang ada diskon 20% jika membeli tiket lebih dari dua')\n",
    "            print('Maka Jumlah harga tiket yang harus dibayar sebesar Rp', sum(hargaTotal) - (sum(hargaTotal) * (20 / 100)))\n",
    "            break\n",
    "        else:\n",
    "            print('Belum ada daftar nama yang membeli tiket!')\n",
    "            break\n",
    "    else:\n",
    "        print('Pilihannya hanya Ya / Tidak! Terima kasih 🙏')\n",
    "        break\n",
    "    "
   ]
  },
  {
   "attachments": {},
   "cell_type": "markdown",
   "metadata": {},
   "source": [
    "## 3. "
   ]
  },
  {
   "attachments": {},
   "cell_type": "markdown",
   "metadata": {},
   "source": [
    "diberikan list aslab sebagai berikut:\n",
    "```python\n",
    "list_aslab = [\n",
    "    {\"nama\": \"Berlian Safri Prakoso\", \"nim\": \"I0320017\", \"kontak\": \"0858XXXXXXXX\"},\n",
    "    {\"nama\": \"Halidya Siti Hanifah\", \"nim\": \"I0320044\", \"kontak\": \"0878XXXXXXXX\"},\n",
    "    {\"nama\": \"Nurki Putra Mahardika\", \"nim\": \"I0320076\", \"kontak\": \"0877XXXXXXXX\"},\n",
    "    {\"nama\": \"Aji Manarul Aziz\", \"nim\": \"I0320119\", \"kontak\": \"0812XXXXXXXX\"},\n",
    "    {\"nama\": \"Alica Ayu Fitriani\", \"nim\": \"I0320121\", \"kontak\": \"0896XXXXXXXX\"},\n",
    "    {\"nama\": \"Dendy Halim Kusuma\", \"nim\": \"I0320125\", \"kontak\": \"0822XXXXXXXX\"}\n",
    "]\n",
    "```\n",
    "* **A** Tuliskan kode untuk mengakses informasi tentang \"nama\" dari semua aslab mulai dari index 1 sampai 5\n",
    "* **B** Tambahkan informasi berikut pada data aslab dan tampilkan hasilnya:\n",
    "```python\n",
    "    surel = [\"berlian@student.uns.ac.id\",\n",
    "          \"halidya@student.uns.ac.id\",\n",
    "          \"nurki@student.uns.ac.id\",\n",
    "          \"manarul@student.uns.ac.id\",\n",
    "          \"alica@student.uns.ac.id\",\n",
    "          \"dendy@student.uns.ac.id\"]\n",
    "```\n",
    "* **C** Hapus nilai pada kunci \"kontak\" pada list aslab dan tampilkan hasilnya\n",
    "> *note: kalian hanya boleh menggunakan key-value pair yang disebutkan di dalam teks, tanpa menggunakan informasi tambahan yang diambil pada list yang ada*"
   ]
  },
  {
   "cell_type": "code",
   "execution_count": 4,
   "metadata": {},
   "outputs": [
    {
     "name": "stdout",
     "output_type": "stream",
     "text": [
      "Halidya Siti Hanifah\n",
      "Nurki Putra Mahardika\n",
      "Aji Manarul Aziz\n",
      "Alica Ayu Fitriani\n",
      "Dendy Halim Kusuma\n"
     ]
    }
   ],
   "source": [
    "# A \n",
    "list_aslab = [\n",
    "    {\"nama\": \"Berlian Safri Prakoso\", \"nim\": \"I0320017\", \"kontak\": \"0858XXXXXXXX\"},\n",
    "    {\"nama\": \"Halidya Siti Hanifah\", \"nim\": \"I0320044\", \"kontak\": \"0878XXXXXXXX\"},\n",
    "    {\"nama\": \"Nurki Putra Mahardika\", \"nim\": \"I0320076\", \"kontak\": \"0877XXXXXXXX\"},\n",
    "    {\"nama\": \"Aji Manarul Aziz\", \"nim\": \"I0320119\", \"kontak\": \"0812XXXXXXXX\"},\n",
    "    {\"nama\": \"Alica Ayu Fitriani\", \"nim\": \"I0320121\", \"kontak\": \"0896XXXXXXXX\"},\n",
    "    {\"nama\": \"Dendy Halim Kusuma\", \"nim\": \"I0320125\", \"kontak\": \"0822XXXXXXXX\"}\n",
    "]\n",
    "\n",
    "surel = [\"berlian@student.uns.ac.id\",\n",
    "          \"halidya@student.uns.ac.id\",\n",
    "          \"nurki@student.uns.ac.id\",\n",
    "          \"manarul@student.uns.ac.id\",\n",
    "          \"alica@student.uns.ac.id\",\n",
    "          \"dendy@student.uns.ac.id\"]\n",
    "\n",
    "for i in range(1, len(list_aslab)):\n",
    "    print(list_aslab[i][\"nama\"])\n"
   ]
  },
  {
   "cell_type": "code",
   "execution_count": 5,
   "metadata": {},
   "outputs": [
    {
     "name": "stdout",
     "output_type": "stream",
     "text": [
      "[{'nama': 'Berlian Safri Prakoso', 'nim': 'I0320017', 'kontak': '0858XXXXXXXX', 'surel': 'berlian@student.uns.ac.id'}, {'nama': 'Halidya Siti Hanifah', 'nim': 'I0320044', 'kontak': '0878XXXXXXXX', 'surel': 'halidya@student.uns.ac.id'}, {'nama': 'Nurki Putra Mahardika', 'nim': 'I0320076', 'kontak': '0877XXXXXXXX', 'surel': 'nurki@student.uns.ac.id'}, {'nama': 'Aji Manarul Aziz', 'nim': 'I0320119', 'kontak': '0812XXXXXXXX', 'surel': 'manarul@student.uns.ac.id'}, {'nama': 'Alica Ayu Fitriani', 'nim': 'I0320121', 'kontak': '0896XXXXXXXX', 'surel': 'alica@student.uns.ac.id'}, {'nama': 'Dendy Halim Kusuma', 'nim': 'I0320125', 'kontak': '0822XXXXXXXX', 'surel': 'dendy@student.uns.ac.id'}]\n"
     ]
    }
   ],
   "source": [
    "# B\n",
    "\n",
    "for o in range(0, len(list_aslab)):\n",
    "    list_aslab[o][\"surel\"] = surel[o]\n",
    "      \n",
    "print(list_aslab)\n",
    "    "
   ]
  },
  {
   "cell_type": "code",
   "execution_count": 6,
   "metadata": {},
   "outputs": [
    {
     "name": "stdout",
     "output_type": "stream",
     "text": [
      "[{'nama': 'Berlian Safri Prakoso', 'nim': 'I0320017', 'surel': 'berlian@student.uns.ac.id'}, {'nama': 'Halidya Siti Hanifah', 'nim': 'I0320044', 'surel': 'halidya@student.uns.ac.id'}, {'nama': 'Nurki Putra Mahardika', 'nim': 'I0320076', 'surel': 'nurki@student.uns.ac.id'}, {'nama': 'Aji Manarul Aziz', 'nim': 'I0320119', 'surel': 'manarul@student.uns.ac.id'}, {'nama': 'Alica Ayu Fitriani', 'nim': 'I0320121', 'surel': 'alica@student.uns.ac.id'}, {'nama': 'Dendy Halim Kusuma', 'nim': 'I0320125', 'surel': 'dendy@student.uns.ac.id'}]\n"
     ]
    }
   ],
   "source": [
    "# C \n",
    "\n",
    "for d in range(0, len(list_aslab)):\n",
    "    del list_aslab[d][\"kontak\"]\n",
    "    \n",
    "print(list_aslab)"
   ]
  }
 ],
 "metadata": {
  "kernelspec": {
   "display_name": "Python 3",
   "language": "python",
   "name": "python3"
  },
  "language_info": {
   "codemirror_mode": {
    "name": "ipython",
    "version": 3
   },
   "file_extension": ".py",
   "mimetype": "text/x-python",
   "name": "python",
   "nbconvert_exporter": "python",
   "pygments_lexer": "ipython3",
   "version": "3.11.2"
  },
  "orig_nbformat": 4,
  "vscode": {
   "interpreter": {
    "hash": "5addf786bcd861d1ce5006f23111f8cbb206731e5b61b0a5632ba9e0252558a8"
   }
  }
 },
 "nbformat": 4,
 "nbformat_minor": 2
}
